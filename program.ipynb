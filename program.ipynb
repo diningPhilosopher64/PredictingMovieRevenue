{
 "cells": [
  {
   "cell_type": "code",
   "execution_count": 15,
   "metadata": {},
   "outputs": [],
   "source": [
    "import pandas as pd\n",
    "import matplotlib.pyplot as plt\n",
    "import seaborn as sns\n",
    "import numpy as np\n",
    "from scipy.stats import norm\n",
    "from sklearn.preprocessing import StandardScaler\n",
    "from scipy import stats\n",
    "from scipy.stats import kurtosis, skew\n",
    "import warnings\n",
    "from sklearn.preprocessing import LabelEncoder\n",
    "warnings.filterwarnings('ignore')\n",
    "%matplotlib inline\n",
    "\n",
    "sns.set(style=\"ticks\", color_codes=True)\n"
   ]
  },
  {
   "cell_type": "code",
   "execution_count": 16,
   "metadata": {},
   "outputs": [],
   "source": [
    "train = pd.read_csv('inputMovies.csv')"
   ]
  },
  {
   "cell_type": "code",
   "execution_count": 17,
   "metadata": {},
   "outputs": [
    {
     "data": {
      "text/plain": [
       "4803"
      ]
     },
     "execution_count": 17,
     "metadata": {},
     "output_type": "execute_result"
    }
   ],
   "source": [
    "train['genres'].iloc[1].split(\":\")\n",
    "train.shape[0]"
   ]
  },
  {
   "cell_type": "code",
   "execution_count": 18,
   "metadata": {},
   "outputs": [
    {
     "data": {
      "text/plain": [
       "['[{\"id\": 12, ',\n",
       " ': \"Adventure\"}, {\"id\": 14, ',\n",
       " ': \"Fantasy\"}, {\"id\": 28, ',\n",
       " ': \"Action\"}]']"
      ]
     },
     "execution_count": 18,
     "metadata": {},
     "output_type": "execute_result"
    }
   ],
   "source": [
    "bla = train['genres'].iloc[1].split('\"name\"')\n",
    "bla"
   ]
  },
  {
   "cell_type": "code",
   "execution_count": 19,
   "metadata": {},
   "outputs": [],
   "source": [
    "unique_genres = []\n",
    "\n",
    "for i in range(0,4803):\n",
    "    bla = train['genres'].iloc[i].split('\"name\"')\n",
    "    for i in range(1,len(bla)-1):\n",
    "        current = bla[i].split(\"}\")[0][3:-1]\n",
    "    if current not in unique_genres:\n",
    "        unique_genres.append(current)\n",
    "        \n",
    "    current = bla[len(bla)-1][3:-3]\n",
    "    if current not in unique_genres:\n",
    "        unique_genres.append(current)\n",
    "\n"
   ]
  },
  {
   "cell_type": "code",
   "execution_count": 20,
   "metadata": {},
   "outputs": [
    {
     "name": "stdout",
     "output_type": "stream",
     "text": [
      "Fantasy\n",
      "Science Fiction\n",
      "Action\n",
      "Adventure\n",
      "Crime\n",
      "Drama\n",
      "Thriller\n",
      "Animation\n",
      "Family\n",
      "Western\n",
      "Comedy\n",
      "Romance\n",
      "Mystery\n",
      "Horror\n",
      "War\n",
      "History\n",
      "Music\n",
      "Documentary\n",
      "Foreign\n",
      "TV Movie\n",
      "\n"
     ]
    }
   ],
   "source": [
    "for bb in unique_genres:\n",
    "    print(bb)"
   ]
  }
 ],
 "metadata": {
  "kernelspec": {
   "display_name": "Python 3",
   "language": "python",
   "name": "python3"
  },
  "language_info": {
   "codemirror_mode": {
    "name": "ipython",
    "version": 3
   },
   "file_extension": ".py",
   "mimetype": "text/x-python",
   "name": "python",
   "nbconvert_exporter": "python",
   "pygments_lexer": "ipython3",
   "version": "3.5.6"
  }
 },
 "nbformat": 4,
 "nbformat_minor": 2
}
