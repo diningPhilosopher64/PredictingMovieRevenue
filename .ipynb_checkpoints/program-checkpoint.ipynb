{
 "cells": [
  {
   "cell_type": "code",
   "execution_count": 1,
   "metadata": {},
   "outputs": [],
   "source": [
    "#Scraping libraries:\n",
    "from bs4 import BeautifulSoup\n",
    "import urllib\n",
    "\n",
    "#DataScience Libraries:\n",
    "import pandas as pd\n",
    "import matplotlib.pyplot as plt\n",
    "import seaborn as sns\n",
    "import numpy as np\n",
    "from scipy.stats import norm\n",
    "from sklearn.preprocessing import StandardScaler\n",
    "from scipy import stats\n",
    "from scipy.stats import kurtosis, skew\n",
    "import warnings\n",
    "from sklearn.preprocessing import LabelEncoder\n",
    "warnings.filterwarnings('ignore')\n",
    "%matplotlib inline\n",
    "\n",
    "sns.set(style=\"ticks\", color_codes=True)\n"
   ]
  },
  {
   "cell_type": "code",
   "execution_count": 2,
   "metadata": {},
   "outputs": [],
   "source": [
    "train = pd.read_csv('inputMovies.csv')"
   ]
  },
  {
   "cell_type": "code",
   "execution_count": 3,
   "metadata": {},
   "outputs": [
    {
     "data": {
      "text/plain": [
       "4803"
      ]
     },
     "execution_count": 3,
     "metadata": {},
     "output_type": "execute_result"
    }
   ],
   "source": [
    "train['genres'].iloc[1].split(\":\")\n",
    "train.shape[0]"
   ]
  },
  {
   "cell_type": "code",
   "execution_count": 4,
   "metadata": {},
   "outputs": [
    {
     "data": {
      "text/plain": [
       "['[{\"id\": 12, ',\n",
       " ': \"Adventure\"}, {\"id\": 14, ',\n",
       " ': \"Fantasy\"}, {\"id\": 28, ',\n",
       " ': \"Action\"}]']"
      ]
     },
     "execution_count": 4,
     "metadata": {},
     "output_type": "execute_result"
    }
   ],
   "source": [
    "bla = train['genres'].iloc[1].split('\"name\"')\n",
    "bla"
   ]
  },
  {
   "cell_type": "code",
   "execution_count": 6,
   "metadata": {},
   "outputs": [
    {
     "data": {
      "text/plain": [
       "['Fantasy',\n",
       " 'Science Fiction',\n",
       " 'Action',\n",
       " 'Adventure',\n",
       " 'Crime',\n",
       " 'Drama',\n",
       " 'Thriller',\n",
       " 'Animation',\n",
       " 'Family',\n",
       " 'Western',\n",
       " 'Comedy',\n",
       " 'Romance',\n",
       " 'Mystery',\n",
       " 'Horror',\n",
       " 'War',\n",
       " 'History',\n",
       " 'Music',\n",
       " 'Documentary',\n",
       " 'Foreign',\n",
       " 'TV Movie',\n",
       " '']"
      ]
     },
     "execution_count": 6,
     "metadata": {},
     "output_type": "execute_result"
    }
   ],
   "source": [
    "unique_genres = []\n",
    "\n",
    "for i in range(0,4803):\n",
    "    bla = train['genres'].iloc[i].split('\"name\"')\n",
    "    for i in range(1,len(bla)-1):\n",
    "        current = bla[i].split(\"}\")[0][3:-1]\n",
    "    if current not in unique_genres:\n",
    "        unique_genres.append(current)\n",
    "        \n",
    "    current = bla[len(bla)-1][3:-3]\n",
    "    if current not in unique_genres:\n",
    "        unique_genres.append(current)\n",
    "\n",
    "unique_genres"
   ]
  },
  {
   "cell_type": "markdown",
   "metadata": {},
   "source": [
    "# todo\n",
    "\n",
    "### Number of likes for actor 1 : facebook , instagram , twitter\n",
    "### Number of likes for actor 2  : facebook , instagram , twitter\n",
    "### Number of likes for movie  : facebook , instagram , twitter\n",
    "### Number of likes for director  : facebook , instagram , twitter"
   ]
  },
  {
   "cell_type": "code",
   "execution_count": 46,
   "metadata": {},
   "outputs": [
    {
     "data": {
      "text/plain": [
       "'https://www.instagram.com/leonardodicaprio/?hl=en'"
      ]
     },
     "execution_count": 46,
     "metadata": {},
     "output_type": "execute_result"
    }
   ],
   "source": [
    "import requests\n",
    "from bs4 import BeautifulSoup\n",
    "import re\n",
    "\n",
    "\n",
    "url = \"https://www.google.com/search?&q=leonardo+dicaprio\"\n",
    "headers = {'User-Agent':'Mozilla/5.0'}\n",
    "page = requests.get(url)\n",
    "soup = BeautifulSoup(page.text, \"html.parser\")\n",
    "\n",
    "divs =  soup.findAll(\"h3\", {\"class\": \"r\"})\n",
    "\n",
    "name = \"\"\n",
    "for elem in soup(text = re.compile(r'instagram')):\n",
    "    name += str(elem.parent)\n",
    "    \n",
    "               \n",
    "\n",
    "name = name.split('</cite>')[0]\n",
    "name  = name[6:]\n",
    "name = name.replace('<b>',\"\")\n",
    "name = name.replace('</b>',\"\")\n",
    "\n",
    "name"
   ]
  },
  {
   "cell_type": "code",
   "execution_count": 47,
   "metadata": {},
   "outputs": [
    {
     "data": {
      "text/plain": [
       "'27.1m'"
      ]
     },
     "execution_count": 47,
     "metadata": {},
     "output_type": "execute_result"
    }
   ],
   "source": [
    "headers = {'User-Agent':'Mozilla/5.0'}\n",
    "page = requests.get(name)\n",
    "soup = BeautifulSoup(page.text, \"html.parser\")\n",
    "followers = soup.find('meta', {'name': 'description'})['content']\n",
    "followers.split(' ')[0]"
   ]
  },
  {
   "cell_type": "code",
   "execution_count": 49,
   "metadata": {},
   "outputs": [],
   "source": [
    "credits = pd.read_csv('inputCredits.csv')\n",
    "cast = credits['cast']"
   ]
  },
  {
   "cell_type": "code",
   "execution_count": 82,
   "metadata": {},
   "outputs": [],
   "source": []
  },
  {
   "cell_type": "code",
   "execution_count": 83,
   "metadata": {
    "scrolled": true
   },
   "outputs": [
    {
     "data": {
      "text/plain": [
       "'Johnny Depp'"
      ]
     },
     "execution_count": 83,
     "metadata": {},
     "output_type": "execute_result"
    }
   ],
   "source": []
  },
  {
   "cell_type": "code",
   "execution_count": 84,
   "metadata": {},
   "outputs": [
    {
     "data": {
      "text/plain": [
       "4803"
      ]
     },
     "execution_count": 84,
     "metadata": {},
     "output_type": "execute_result"
    }
   ],
   "source": [
    "credits.shape[0]"
   ]
  },
  {
   "cell_type": "code",
   "execution_count": null,
   "metadata": {},
   "outputs": [],
   "source": [
    "actors = []\n",
    "for i in range(0,4803):\n",
    "    actor = cast.iloc[1]\n",
    "    actor = actor.split(\"name\")[1].split('\"')[2]\n",
    "    actors.append()\n",
    "    \n",
    "    "
   ]
  }
 ],
 "metadata": {
  "kernelspec": {
   "display_name": "Python 3",
   "language": "python",
   "name": "python3"
  },
  "language_info": {
   "codemirror_mode": {
    "name": "ipython",
    "version": 3
   },
   "file_extension": ".py",
   "mimetype": "text/x-python",
   "name": "python",
   "nbconvert_exporter": "python",
   "pygments_lexer": "ipython3",
   "version": "3.5.6"
  }
 },
 "nbformat": 4,
 "nbformat_minor": 2
}
